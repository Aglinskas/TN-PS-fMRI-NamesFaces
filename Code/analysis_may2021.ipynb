{
 "cells": [
  {
   "cell_type": "code",
   "execution_count": 1,
   "metadata": {},
   "outputs": [
    {
     "name": "stdout",
     "output_type": "stream",
     "text": [
      "\n",
      "ans =\n",
      "\n",
      "    '9.3.0.713579 (R2017b)'\n",
      "\n",
      "\n",
      "ans =\n",
      "\n",
      "    '/Users/aidasaglinskas/Desktop/TN-PS-fMRI-NamesFaces/Code'\n",
      "\n"
     ]
    }
   ],
   "source": [
    "pwd"
   ]
  },
  {
   "cell_type": "code",
   "execution_count": 2,
   "metadata": {},
   "outputs": [],
   "source": [
    "%plot inline"
   ]
  },
  {
   "cell_type": "code",
   "execution_count": 3,
   "metadata": {},
   "outputs": [
    {
     "name": "stdout",
     "output_type": "stream",
     "text": [
      "\n",
      "aBeta = \n",
      "\n",
      "  struct with fields:\n",
      "\n",
      "    fmat_raw: [21x12x20 double]\n",
      "        fmat: [21x10x20 double]\n",
      "      r_lbls: {21x1 cell}\n",
      "        trim: [1x1 struct]\n",
      "      list_R: {21x1 cell}\n",
      "      list_T: {12x1 cell}\n",
      "    wmat_raw: [21x12x24 double]\n",
      "        wmat: [21x10x24 double]\n",
      "    t_lbls10: {10x1 cell}\n",
      "    t_lbls12: {12x1 cell}\n",
      "\n"
     ]
    }
   ],
   "source": [
    "load('aBeta2.mat')\n",
    "%load('aBeta_May2021.mat')\n",
    "aBeta"
   ]
  },
  {
   "cell_type": "code",
   "execution_count": null,
   "metadata": {},
   "outputs": [],
   "source": []
  },
  {
   "cell_type": "code",
   "execution_count": 4,
   "metadata": {},
   "outputs": [
    {
     "name": "stdout",
     "output_type": "stream",
     "text": [
      "\n",
      "ans =\n",
      "\n",
      "    21    10    24\n",
      "\n"
     ]
    }
   ],
   "source": [
    "size(aBeta.wmat)"
   ]
  },
  {
   "cell_type": "code",
   "execution_count": 5,
   "metadata": {},
   "outputs": [],
   "source": [
    "aBeta.rlbls = aBeta.r_lbls;\n",
    "aBeta.tlbls10 = aBeta.t_lbls10;"
   ]
  },
  {
   "cell_type": "code",
   "execution_count": 6,
   "metadata": {},
   "outputs": [
    {
     "data": {
      "image/png": "[encoded data removed]",
      "text/plain": [
       "<IPython.core.display.Image object>"
      ]
     },
     "metadata": {},
     "output_type": "display_data"
    }
   ],
   "source": [
    "task_groups = {{  {'Friendliness'   }\n",
    "    {'Trustworthiness'}}\n",
    "{    {'Attractiveness' }\n",
    "    {'Distinctiveness'}}\n",
    "{    {'First memory'   }\n",
    "    {'Familiarity'    }}\n",
    "{    {'How many facts' }\n",
    "    {'Occupation'     }}\n",
    "{    {'First name'     }\n",
    "    {'Last name'      }}};\n",
    "task_group_labels = {'Social' 'Physical' 'Episodic' 'Biographical' 'Nominal'};\n",
    "\n",
    "r_groups = {{   'OFA-L'\n",
    "    'OFA-R'}\n",
    "{    'FFA-L'\n",
    "    'FFA-R'}\n",
    "{    'pSTS-L'\n",
    "    'pSTS-R'}\n",
    "{    'IFG-L'\n",
    "    'IFG-R'}\n",
    "{    'OFC-L'\n",
    "    'OFC-R'}\n",
    "{    'ATFP-L'\n",
    "    'ATFP-R'}\n",
    "{    'AMY-L'\n",
    "    'AMY-R'}\n",
    "{    'ATL-L'\n",
    "    'ATL-R'}\n",
    "{    'AG-L'\n",
    "    'AG-R'}\n",
    "{    'PREC'}\n",
    "{    'dmPFC'}\n",
    "{    'vmPFC'}};\n",
    "r_group_lbls = {'OFA' 'FFA' 'pSTS' 'IFG' 'OFC' 'ATFP' 'AMY' 'ATL' 'AG' 'PREC' 'dmPFC' 'vmPFC'};\n",
    "\n",
    "\n",
    "r_groups = {\n",
    "{    'IFG-L'\n",
    "    'IFG-R'}\n",
    "{    'OFC-L'\n",
    "    'OFC-R'}\n",
    "{    'ATFP-L'\n",
    "    'ATFP-R'}\n",
    "{    'AMY-L'\n",
    "    'AMY-R'}\n",
    "{    'ATL-L'\n",
    "    'ATL-R'}\n",
    "{    'AG-L'\n",
    "    'AG-R'}\n",
    "{    'PREC'}\n",
    "{    'dmPFC'}\n",
    "{    'vmPFC'}};\n",
    "r_group_lbls = {'IFG' 'OFC' 'ATFP' 'AMY' 'ATL' 'AG' 'PREC' 'dmPFC' 'vmPFC'};\n",
    "\n",
    "\n",
    "%rmat = aBeta.wmat(ismember(aBeta.r_lbls,{'AG-L' 'AG-R'}),:,:);\n",
    "r_groups = aBeta.rlbls(7:18);\n",
    "mat= [];\n",
    "for j = 1:length(r_groups)\n",
    "for i = 1:5\n",
    "%mat(:,i,:) = mean(rmat(:,ismember(aBeta.t_lbls10,[task_groups{i}{:}]),:),2);\n",
    "mat(j,i,:) = mean(mean(aBeta.fmat(ismember(aBeta.rlbls,r_groups{j}),ismember(aBeta.t_lbls10,[task_groups{i}{:}]),:),2),1);\n",
    "end\n",
    "end\n",
    "\n",
    "plot_mat = mean(mat,3);\n",
    "plot_mat = plot_mat-min(plot_mat,[],2)+1;\n",
    "plot_mat = plot_mat ./ sum(plot_mat,2);\n",
    "bar(plot_mat,'stacked');\n",
    "%legend(task_group_labels);\n",
    "xticklabels(r_groups);\n",
    "xtickangle(65);\n",
    "box off;\n",
    "ylim([0 1])"
   ]
  },
  {
   "cell_type": "code",
   "execution_count": 7,
   "metadata": {},
   "outputs": [
    {
     "data": {
      "image/png": "[encoded data removed]",
      "text/plain": [
       "<IPython.core.display.Image object>"
      ]
     },
     "metadata": {},
     "output_type": "display_data"
    }
   ],
   "source": [
    "f = figure(1);\n",
    "add_numbers_to_mat(mean(aBeta.wmat,3));\n",
    "ax = get(f);\n",
    "xticks(1:10);yticks(1:21)\n",
    "ax.CurrentAxes.XTickLabel = aBeta.t_lbls10;\n",
    "ax.CurrentAxes.XTickLabelRotation = 45;\n",
    "ax.CurrentAxes.YTickLabel = aBeta.r_lbls;;\n",
    "%ax.CurrentAxes.Position\n",
    "ax.CurrentAxes.Position = ax.CurrentAxes.Position;\n",
    "title('mean response')"
   ]
  },
  {
   "cell_type": "code",
   "execution_count": 8,
   "metadata": {},
   "outputs": [
    {
     "name": "stdout",
     "output_type": "stream",
     "text": [
      "\n",
      "ans =\n",
      "\n",
      "    21    12    24\n",
      "\n"
     ]
    }
   ],
   "source": [
    "size(aBeta.wmat_raw)"
   ]
  },
  {
   "cell_type": "code",
   "execution_count": 9,
   "metadata": {},
   "outputs": [
    {
     "name": "stdout",
     "output_type": "stream",
     "text": [
      "\n",
      "ans =\n",
      "\n",
      "    21    10    24\n",
      "\n"
     ]
    }
   ],
   "source": [
    "size(aBeta.wmat)"
   ]
  },
  {
   "cell_type": "code",
   "execution_count": 10,
   "metadata": {},
   "outputs": [],
   "source": [
    "r = 1:21;\n",
    "ps = squeeze(mean(aBeta.wmat_raw(r,1:10,:),2));\n",
    "cc = squeeze(mean(aBeta.wmat_raw(r,11,:),2));"
   ]
  },
  {
   "cell_type": "code",
   "execution_count": 11,
   "metadata": {},
   "outputs": [],
   "source": [
    "[H,P,CI,STATS] = ttest(ps',cc');\n",
    "[H,P,CI,STATS] = ttest(ps'-cc');\n",
    "[H,P,CI,STATS] = ttest(squeeze(mean(aBeta.wmat,2))');"
   ]
  },
  {
   "cell_type": "markdown",
   "metadata": {},
   "source": [
    "Access to person knowledge (mean(all tasks) > name matching cc): t-statements"
   ]
  },
  {
   "cell_type": "code",
   "execution_count": 12,
   "metadata": {},
   "outputs": [
    {
     "name": "stdout",
     "output_type": "stream",
     "text": [
      "OFA-L | t(23) = -3.30, p = 0.003\n",
      "OFA-R | t(23) = -3.04, p = 0.006\n",
      "FFA-L | t(23) = -0.51, p = 0.618\n",
      "FFA-R | t(23) = -2.31, p = 0.030\n",
      "pSTS-L | t(23) = -3.49, p = 0.002\n",
      "pSTS-R | t(23) = -4.88, p < .001\n",
      "IFG-L | t(23) = 5.21, p < .001\n",
      "IFG-R | t(23) = 0.94, p = 0.356\n",
      "OFC-L | t(23) = 4.36, p < .001\n",
      "OFC-R | t(23) = 4.53, p < .001\n",
      "ATFP-L | t(23) = 1.32, p = 0.201\n",
      "ATFP-R | t(23) = 1.05, p = 0.305\n",
      "AMY-L | t(23) = 1.92, p = 0.067\n",
      "AMY-R | t(23) = -0.07, p = 0.941\n",
      "ATL-L | t(23) = 4.79, p < .001\n",
      "ATL-R | t(23) = 0.86, p = 0.396\n",
      "AG-L | t(23) = 3.74, p = 0.001\n",
      "AG-R | t(23) = 4.90, p < .001\n",
      "PREC | t(23) = 10.30, p < .001\n",
      "dmPFC | t(23) = 4.41, p < .001\n",
      "vmPFC | t(23) = 3.59, p = 0.002\n"
     ]
    }
   ],
   "source": [
    "for i = 1:length(r)\n",
    "if P(i) < .001\n",
    "statement = sprintf('%s | t(23) = %.2f, p < .001',aBeta.rlbls{r(i)},STATS.tstat(i));\n",
    "else\n",
    "statement = sprintf('%s | t(23) = %.2f, p = %.3f',aBeta.rlbls{r(i)},STATS.tstat(i),P(i));\n",
    "end\n",
    "\n",
    "disp(statement)\n",
    "\n",
    "end"
   ]
  },
  {
   "cell_type": "code",
   "execution_count": null,
   "metadata": {},
   "outputs": [],
   "source": []
  },
  {
   "cell_type": "code",
   "execution_count": null,
   "metadata": {},
   "outputs": [],
   "source": []
  },
  {
   "cell_type": "code",
   "execution_count": null,
   "metadata": {},
   "outputs": [],
   "source": []
  },
  {
   "cell_type": "code",
   "execution_count": 13,
   "metadata": {},
   "outputs": [],
   "source": [
    "r = aBeta.rlbls(7:18);\n",
    "r(1:2:end);"
   ]
  },
  {
   "cell_type": "code",
   "execution_count": 14,
   "metadata": {},
   "outputs": [
    {
     "name": "stdout",
     "output_type": "stream",
     "text": [
      "Episodic | t(23) = 9.27, p < .001\n",
      "Factual | t(23) = 8.59, p < .001\n",
      "Social | t(23) = 6.88, p < .001\n",
      "Physical | t(23) = 6.92, p < .001\n",
      "Nominal | t(23) = 7.50, p < .001\n"
     ]
    }
   ],
   "source": [
    "for t = 1:5\n",
    "%tasks = aBeta.t_lbls10{t};\n",
    "vec = squeeze(aBeta.wmat(ismember(aBeta.rlbls,'PREC'),ismember(aBeta.t_lbls10,aBeta.t_lbls10(aBeta.trim.t_inds{t})),:));\n",
    "vec = mean(vec);\n",
    "statement = pretty_t_test_one_sample(vec);\n",
    "disp(sprintf('%s | %s',aBeta.trim.t_lbls{t},statement))\n",
    "end"
   ]
  },
  {
   "cell_type": "code",
   "execution_count": 15,
   "metadata": {},
   "outputs": [
    {
     "data": {
      "image/png": "[encoded data removed]",
      "text/plain": [
       "<IPython.core.display.Image object>"
      ]
     },
     "metadata": {},
     "output_type": "display_data"
    }
   ],
   "source": [
    "rois = {'ATFP-L' 'ATFP-R' 'ATL-L' 'ATL-R' 'AMY-L' 'AMY-R' 'AG-L' 'AG-R' 'IFG-L' 'IFG-R' 'OFC-L' 'OFC-R' 'PREC' 'dmPFC' 'vmPFC'};\n",
    "r_idx = ismember(aBeta.rlbls,rois);\n",
    "clf\n",
    "m = mean(mean(aBeta.wmat(7:21,:,:),3),2);\n",
    "se = mean(std(aBeta.wmat(7:21,:,:),[],3),2) ./ sqrt(24);\n",
    "\n",
    "bar(m);hold on;\n",
    "errorbar(m,se,'r.')\n",
    "xticklabels(aBeta.rlbls(7:21))\n",
    "xtickangle(65)\n",
    "box off"
   ]
  },
  {
   "cell_type": "code",
   "execution_count": null,
   "metadata": {},
   "outputs": [],
   "source": []
  },
  {
   "cell_type": "code",
   "execution_count": 16,
   "metadata": {},
   "outputs": [
    {
     "data": {
      "image/png": "[encoded data removed]",
      "text/plain": [
       "<IPython.core.display.Image object>"
      ]
     },
     "metadata": {},
     "output_type": "display_data"
    }
   ],
   "source": [
    "rois = {'ATFP-L' 'ATFP-R' 'ATL-L' 'ATL-R' 'AMY-L' 'AMY-R' 'AG-L' 'AG-R' 'IFG-L' 'IFG-R' 'OFC-L' 'OFC-R' 'PREC' 'dmPFC' 'vmPFC'};\n",
    "r_idx = ismember(aBeta.rlbls,rois);\n",
    "clf\n",
    "m = mean(mean(aBeta.wmat(7:21,:,:),3),2);\n",
    "se = mean(std(aBeta.wmat(7:21,:,:),[],3),2) ./ sqrt(24);\n",
    "\n",
    "bar(m);hold on;\n",
    "errorbar(m,se,'r.')\n",
    "xticklabels(aBeta.rlbls(7:21))\n",
    "xtickangle(65)\n",
    "box off"
   ]
  },
  {
   "cell_type": "code",
   "execution_count": null,
   "metadata": {},
   "outputs": [],
   "source": []
  },
  {
   "cell_type": "code",
   "execution_count": null,
   "metadata": {},
   "outputs": [],
   "source": []
  },
  {
   "cell_type": "code",
   "execution_count": null,
   "metadata": {},
   "outputs": [],
   "source": []
  },
  {
   "cell_type": "code",
   "execution_count": null,
   "metadata": {},
   "outputs": [],
   "source": []
  },
  {
   "cell_type": "code",
   "execution_count": null,
   "metadata": {},
   "outputs": [],
   "source": []
  },
  {
   "cell_type": "code",
   "execution_count": 17,
   "metadata": {},
   "outputs": [],
   "source": [
    "% add_numbers_to_mat(model_pairs)\n",
    "% xticklabels(lbls)\n",
    "% yticklabels(lbls)\n",
    "% xtickangle(90)"
   ]
  },
  {
   "cell_type": "code",
   "execution_count": 18,
   "metadata": {},
   "outputs": [
    {
     "name": "stdout",
     "output_type": "stream",
     "text": [
      "Created file '/Users/aidasaglinskas/Desktop/TN-PS-fMRI-NamesFaces/Code/fit_rsa.m'.\n"
     ]
    }
   ],
   "source": [
    "%%file fit_rsa.m\n",
    "function model_fit = fit_rsa(data,model)\n",
    "\n",
    "n = size(model,1);\n",
    "e = 1:n;\n",
    "model(logical(eye(size(model)))) = 0;\n",
    "e = sum(model)~=0;\n",
    "model = model(e,e);\n",
    "\n",
    "idx = find(triu(ones(size(model)),1));\n",
    "nsubs = size(data,3);\n",
    "model_fit = nan(1,nsubs);\n",
    "\n",
    "\n",
    "for s = 1:nsubs\n",
    "subdata = data(e,e,s);\n",
    "model_fit(s) = corr(subdata(idx),model(idx));\n",
    "%model_fit(s) = corr(get_triu(subdata)',get_triu(model)');\n",
    "end\n",
    "\n",
    "\n",
    "end"
   ]
  },
  {
   "cell_type": "code",
   "execution_count": 19,
   "metadata": {},
   "outputs": [],
   "source": [
    "%hist(squeeze(aBeta.wmat(5,6,:)))"
   ]
  },
  {
   "cell_type": "code",
   "execution_count": 20,
   "metadata": {},
   "outputs": [
    {
     "data": {
      "image/png": "[encoded data removed]",
      "text/plain": [
       "<IPython.core.display.Image object>"
      ]
     },
     "metadata": {},
     "output_type": "display_data"
    }
   ],
   "source": [
    "%plot inline\n",
    "%disp(aBeta.rlbls);\n",
    "rois = {'ATFP-L' 'ATFP-R' 'ATL-L' 'ATL-R' 'AMY-L' 'AMY-R' 'AG-L' 'AG-R' 'IFG-L' 'IFG-R' 'OFC-L' 'OFC-R' 'PREC' 'dmPFC' 'vmPFC'};\n",
    "r_idx = ismember(aBeta.rlbls,rois);\n",
    "\n",
    "nsubs = size(aBeta.fmat,3);\n",
    "cmat_face = [];\n",
    "for s = 1:nsubs;\n",
    "    cmat_face(:,:,s) = corr(aBeta.fmat(r_idx ,:,s));;\n",
    "end\n",
    "\n",
    "nsubs = size(aBeta.wmat,3);\n",
    "cmat_words = [];\n",
    "for s = 1:nsubs\n",
    "    cmat_words(:,:,s) = corr(aBeta.wmat(r_idx ,:,s));\n",
    "end\n",
    "%\n",
    "\n",
    "\n",
    "lbls = aBeta.tlbls10;\n",
    "model_empirical = mean(cmat_face,3);\n",
    "model_pairs = make_model(lbls,{ {'Attractiveness'    'Distinctiveness'}    {'Trustworthiness' 'Friendliness' } {'First memory' 'Familiarity'} {'Occupation'  'How many facts'} {'First name' 'Last name'} });\n",
    "model_epBio = make_model(lbls,{ {'Attractiveness'    'Distinctiveness'}    {'Trustworthiness' 'Friendliness' } {'First memory' 'Familiarity' 'Occupation'  'How many facts'} {'First name' 'Last name'} });\n",
    "model_nomBio = make_model(lbls,{ {'Attractiveness'    'Distinctiveness'}    {'Trustworthiness' 'Friendliness' } {'First memory' 'Familiarity'} {'Occupation'  'How many facts' 'First name' 'Last name'} });\n",
    "model_macrodomain = make_model(lbls,{ {'Attractiveness'    'Distinctiveness'    'Trustworthiness' 'Friendliness' } {'First memory' 'Familiarity' 'Occupation'  'How many facts'} {'First name' 'Last name'} });\n",
    "\n",
    "%fit_empirical = fit_rsa(cmat_words,model_empirical);\n",
    "fit_empirical = fit_rsa(cmat_words,model_empirical);\n",
    "fit_macrodomain = fit_rsa(cmat_words,model_macrodomain);\n",
    "\n",
    "fit_pairs = fit_rsa(cmat_words,model_pairs);\n",
    "fit_epBio = fit_rsa(cmat_words,model_epBio);\n",
    "fit_nomBio = fit_rsa(cmat_words,model_nomBio);\n",
    "% %\n",
    "\n",
    "subplot(2,2,1);plot_rsa_fit({fit_empirical fit_macrodomain fit_pairs fit_epBio fit_nomBio},{'fit_empirical' 'fit_macrodomain' 'fit_pairs' 'fit_epBio' 'fit_nomBio'});\n",
    "subplot(2,2,2);plot_rsa_fit({fit_nomBio,fit_epBio},{'nomBio' 'fit epBio'});\n",
    "subplot(2,2,3);plot_rsa_fit({fit_empirical,fit_macrodomain},{'empirical' 'macro domain'});\n",
    "\n",
    "pretty_t_test_paired(fit_empirical,fit_macrodomain);\n",
    "pretty_t_test_paired(fit_epBio,fit_nomBio);\n",
    "%pretty_t_test_paired(fit_macrodomain,fit_epBio);"
   ]
  },
  {
   "cell_type": "code",
   "execution_count": 21,
   "metadata": {},
   "outputs": [
    {
     "name": "stdout",
     "output_type": "stream",
     "text": [
      "\n",
      "ans =\n",
      "\n",
      "    't(23) = 5.22, p < .001'\n",
      "\n",
      "\n",
      "ans =\n",
      "\n",
      "    't(23) = 4.36, p < .001'\n",
      "\n",
      "\n",
      "ans =\n",
      "\n",
      "    't(23) = 4.15, p < .001'\n",
      "\n"
     ]
    },
    {
     "data": {
      "image/png": "[encoded data removed]",
      "text/plain": [
       "<IPython.core.display.Image object>"
      ]
     },
     "metadata": {},
     "output_type": "display_data"
    }
   ],
   "source": [
    "%% Attractiveness models\n",
    "model1 = make_model(lbls,{ {'Attractiveness'    'Distinctiveness' 'Trustworthiness' 'Friendliness' } {'First memory' 'Familiarity'} {'Occupation'  'How many facts'} {'First name' 'Last name'} });\n",
    "model2 = make_model(lbls,{ {'Trustworthiness' 'Friendliness' } {'Attractiveness'    'Distinctiveness' 'First memory' 'Familiarity'} {'Occupation'  'How many facts'} {'First name' 'Last name'} });\n",
    "model3 = make_model(lbls,{ {'Trustworthiness' 'Friendliness' } {'First memory' 'Familiarity'} {'Attractiveness'    'Distinctiveness' 'Occupation'  'How many facts'} {'First name' 'Last name'} });\n",
    "model4 = make_model(lbls,{ {'Trustworthiness' 'Friendliness' } {'First memory' 'Familiarity'} {'Occupation'  'How many facts'} {'Attractiveness'    'Distinctiveness' 'First name' 'Last name'} });\n",
    "\n",
    "model1_fit = fit_rsa(cmat_words,model1);\n",
    "model2_fit = fit_rsa(cmat_words,model2);\n",
    "model3_fit = fit_rsa(cmat_words,model3);\n",
    "model4_fit = fit_rsa(cmat_words,model4);\n",
    "\n",
    "plot_rsa_fit({model1_fit,model2_fit,model3_fit,model4_fit},{'model1','model2','model3','model4'});\n",
    "\n",
    "pretty_t_test_paired(model1_fit,model2_fit)\n",
    "pretty_t_test_paired(model1_fit,model3_fit)\n",
    "pretty_t_test_paired(model1_fit,model4_fit)"
   ]
  },
  {
   "cell_type": "code",
   "execution_count": 22,
   "metadata": {},
   "outputs": [
    {
     "name": "stdout",
     "output_type": "stream",
     "text": [
      "\n",
      "ans =\n",
      "\n",
      "    't(23) = 4.31, p < .001'\n",
      "\n",
      "\n",
      "ans =\n",
      "\n",
      "    't(23) = 3.75, p = 0.001'\n",
      "\n",
      "\n",
      "ans =\n",
      "\n",
      "    't(23) = 6.19, p < .001'\n",
      "\n"
     ]
    },
    {
     "data": {
      "image/png": "[encoded data removed]",
      "text/plain": [
       "<IPython.core.display.Image object>"
      ]
     },
     "metadata": {},
     "output_type": "display_data"
    }
   ],
   "source": [
    "%% Social models\n",
    "\n",
    "model1 = make_model(lbls,{ {'Attractiveness'    'Distinctiveness' 'Trustworthiness' 'Friendliness' } {'First memory' 'Familiarity'} {'Occupation'  'How many facts'} {'First name' 'Last name'} });\n",
    "model2 = make_model(lbls,{ {'Attractiveness'    'Distinctiveness'} {'Trustworthiness' 'Friendliness' 'First memory' 'Familiarity'} {'Occupation'  'How many facts'} {'First name' 'Last name'} });\n",
    "model3 = make_model(lbls,{ {'Attractiveness'    'Distinctiveness'} {'First memory' 'Familiarity'} {'Trustworthiness' 'Friendliness'  'Occupation'  'How many facts'} {'First name' 'Last name'} });\n",
    "model4 = make_model(lbls,{ {'Attractiveness'    'Distinctiveness'} {'First memory' 'Familiarity'} {'Occupation'  'How many facts'} {'Trustworthiness' 'Friendliness'  'First name' 'Last name'} });\n",
    "\n",
    "model1_fit = fit_rsa(cmat_words,model1);\n",
    "model2_fit = fit_rsa(cmat_words,model2);\n",
    "model3_fit = fit_rsa(cmat_words,model3);\n",
    "model4_fit = fit_rsa(cmat_words,model4);\n",
    "\n",
    "plot_rsa_fit({model1_fit,model2_fit,model3_fit,model4_fit},{'model1','model2','model3','model4'});\n",
    "\n",
    "pretty_t_test_paired(model1_fit,model2_fit)\n",
    "pretty_t_test_paired(model1_fit,model3_fit)\n",
    "pretty_t_test_paired(model1_fit,model4_fit)"
   ]
  },
  {
   "cell_type": "code",
   "execution_count": null,
   "metadata": {},
   "outputs": [],
   "source": []
  },
  {
   "cell_type": "code",
   "execution_count": null,
   "metadata": {},
   "outputs": [],
   "source": []
  },
  {
   "cell_type": "code",
   "execution_count": null,
   "metadata": {},
   "outputs": [],
   "source": []
  },
  {
   "cell_type": "code",
   "execution_count": 23,
   "metadata": {},
   "outputs": [
    {
     "name": "stdout",
     "output_type": "stream",
     "text": [
      "Created file '/Users/aidasaglinskas/Desktop/TN-PS-fMRI-NamesFaces/Code/rsa_r2.m'.\n"
     ]
    }
   ],
   "source": [
    "%%file rsa_r2.m\n",
    "function r = rsa_r2(data,model)\n",
    "\n",
    "r = corr(get_triu(mean(data,3))',get_triu(mean(model,3))');\n",
    "disp(sprintf('r = %.2f / r2 = %.2f',r,r^2))\n",
    "\n",
    "end"
   ]
  },
  {
   "cell_type": "markdown",
   "metadata": {},
   "source": [
    "ROIS"
   ]
  },
  {
   "cell_type": "code",
   "execution_count": 24,
   "metadata": {},
   "outputs": [
    {
     "name": "stdout",
     "output_type": "stream",
     "text": [
      "\n",
      "ans =\n",
      "\n",
      "    10    10    24\n",
      "\n"
     ]
    }
   ],
   "source": [
    "size(cmat_words)"
   ]
  },
  {
   "cell_type": "code",
   "execution_count": 25,
   "metadata": {},
   "outputs": [
    {
     "name": "stdout",
     "output_type": "stream",
     "text": [
      "r = 0.61 / r2 = 0.37\n"
     ]
    }
   ],
   "source": [
    "rsa_r2(cmat_words,model_empirical);"
   ]
  },
  {
   "cell_type": "code",
   "execution_count": 26,
   "metadata": {},
   "outputs": [
    {
     "name": "stdout",
     "output_type": "stream",
     "text": [
      "r = 0.64 / r2 = 0.40\n"
     ]
    }
   ],
   "source": [
    "rsa_r2(cmat_words,model_macrodomain);"
   ]
  },
  {
   "cell_type": "code",
   "execution_count": 27,
   "metadata": {},
   "outputs": [
    {
     "name": "stdout",
     "output_type": "stream",
     "text": [
      "r = 0.40 / r2 = 0.16\n"
     ]
    }
   ],
   "source": [
    "rsa_r2(cmat_words,model_epBio);"
   ]
  },
  {
   "cell_type": "code",
   "execution_count": 28,
   "metadata": {},
   "outputs": [
    {
     "name": "stdout",
     "output_type": "stream",
     "text": [
      "r = 0.19 / r2 = 0.04\n"
     ]
    }
   ],
   "source": [
    "rsa_r2(cmat_words,model_nomBio);"
   ]
  },
  {
   "cell_type": "code",
   "execution_count": 29,
   "metadata": {},
   "outputs": [],
   "source": [
    "%model_empirical model_pairs model_epBio model_nomBio model_macrodomain"
   ]
  },
  {
   "cell_type": "code",
   "execution_count": 30,
   "metadata": {},
   "outputs": [],
   "source": [
    "[h,p,ci,stats] = ttest(fit_macrodomain);"
   ]
  },
  {
   "cell_type": "code",
   "execution_count": 31,
   "metadata": {},
   "outputs": [],
   "source": [
    "[h,p,ci,stats] = ttest(fit_pairs);"
   ]
  },
  {
   "cell_type": "code",
   "execution_count": null,
   "metadata": {},
   "outputs": [],
   "source": []
  },
  {
   "cell_type": "code",
   "execution_count": null,
   "metadata": {},
   "outputs": [],
   "source": []
  },
  {
   "cell_type": "code",
   "execution_count": 32,
   "metadata": {},
   "outputs": [
    {
     "data": {
      "image/png": "[encoded data removed]",
      "text/plain": [
       "<IPython.core.display.Image object>"
      ]
     },
     "metadata": {},
     "output_type": "display_data"
    }
   ],
   "source": [
    "dendrogram(linkage(1-get_triu(mean(cmat_words,3)),'ward'),'labels',aBeta.t_lbls10)\n",
    "xtickangle(65)"
   ]
  },
  {
   "cell_type": "code",
   "execution_count": 33,
   "metadata": {},
   "outputs": [],
   "source": [
    "aBeta.rlbls = aBeta.r_lbls;\n",
    "aBeta.tlbls10 = aBeta.t_lbls10;"
   ]
  },
  {
   "cell_type": "code",
   "execution_count": 34,
   "metadata": {},
   "outputs": [],
   "source": [
    "% rlbls = aBeta.r_lbls(7:21);\n",
    "% posthoc_model2  = make_model(rlbls,{{'ATFP-L' 'ATFP-R' 'AMY-L' 'AMY-R' 'OFC-L' 'OFC-R' } {'IFG-L' 'IFG-R' 'ATL-L' 'ATL-R' 'AG-L' 'AG-R' 'PREC' 'dmPFC' 'vmPFC'}});\n",
    "% posthoc2_fit = fit_rsa(cmat_words,posthoc_model2);\n",
    "\n",
    "\n",
    "% posthoc_model3  = make_model(rlbls,{{'ATFP-L' 'ATFP-R' 'AMY-L' 'AMY-R' 'OFC-L' 'OFC-R' } {'IFG-L' 'IFG-R'  'AG-L' 'AG-R'} {'ATL-L' 'ATL-R' 'PREC' 'dmPFC' 'vmPFC'}});\n",
    "% posthoc3_fit = fit_rsa(cmat_words,posthoc_model3);"
   ]
  },
  {
   "cell_type": "code",
   "execution_count": 35,
   "metadata": {},
   "outputs": [],
   "source": [
    "% size(cmat_words_all)"
   ]
  },
  {
   "cell_type": "code",
   "execution_count": 36,
   "metadata": {},
   "outputs": [
    {
     "name": "stdout",
     "output_type": "stream",
     "text": [
      "    'OFA-L'\n",
      "    'OFA-R'\n",
      "    'FFA-L'\n",
      "    'FFA-R'\n",
      "    'pSTS-L'\n",
      "    'pSTS-R'\n",
      "    'IFG-L'\n",
      "    'IFG-R'\n",
      "    'OFC-L'\n",
      "    'OFC-R'\n",
      "    'ATFP-L'\n",
      "    'ATFP-R'\n",
      "    'AMY-L'\n",
      "    'AMY-R'\n",
      "    'ATL-L'\n",
      "    'ATL-R'\n",
      "    'AG-L'\n",
      "    'AG-R'\n",
      "    'PREC'\n",
      "    'dmPFC'\n",
      "    'vmPFC'\n",
      "\n"
     ]
    },
    {
     "name": "stderr",
     "output_type": "stream",
     "text": [
      "\u001b[0;31mError using eval\n",
      "Undefined function or variable 'posthoc2_fit'.\n",
      "\n",
      "\u001b[0m"
     ]
    }
   ],
   "source": [
    "disp(aBeta.rlbls);\n",
    "rois = {'ATFP-L' 'ATFP-R' 'ATL-L' 'ATL-R' 'AMY-L' 'AMY-R' 'AG-L' 'AG-R' 'IFG-L' 'IFG-R' 'OFC-L' 'OFC-R' 'PREC' 'dmPFC' 'vmPFC'};\n",
    "r_idx = ismember(aBeta.rlbls,rois);\n",
    "\n",
    "nsubs = size(aBeta.fmat,3);\n",
    "cmat_face_all = [];\n",
    "for s = 1:nsubs;\n",
    "    cmat_face_all(:,:,s) = corr(aBeta.fmat(:,:,s)');\n",
    "end\n",
    "\n",
    "nsubs = size(aBeta.wmat,3);\n",
    "cmat_words_all = [];\n",
    "for s = 1:nsubs\n",
    "    cmat_words_all(:,:,s) = corr(aBeta.wmat(: ,:,s)');\n",
    "end\n",
    "\n",
    "cmat_face = cmat_face_all(r_idx,r_idx,:);\n",
    "cmat_words = cmat_words_all(r_idx,r_idx,:);\n",
    "\n",
    "\n",
    "%\n",
    "rlbls = aBeta.rlbls(r_idx);\n",
    "%pairs_model = make_model(rlbls, {{'ATFP-L' 'ATFP-R'} {'ATL-L' 'ATL-R'} {'AMY-L' 'AMY-R'} {'AG-L' 'AG-R'} {'IFG-L' 'IFG-R'} {'OFC-L' 'OFC-R'}})\n",
    "pairs_model = make_model(rlbls(1:12), {{'ATFP-L' 'ATFP-R'} {'ATL-L' 'ATL-R'} {'AMY-L' 'AMY-R'} {'AG-L' 'AG-R'} {'IFG-L' 'IFG-R'} {'OFC-L' 'OFC-R'}});\n",
    "pairs_fit = fit_rsa(cmat_words(1:12,1:12,:),pairs_model);\n",
    "\n",
    "iec_model  = make_model(rlbls,{{'ATFP-L' 'ATFP-R' 'AMY-L' 'AMY-R'} {'IFG-L' 'IFG-R' 'OFC-L' 'OFC-R'} {'ATL-L' 'ATL-R' 'AG-L' 'AG-R' 'PREC' 'dmPFC' 'vmPFC'}});\n",
    "empirical_model = cmat_face;\n",
    "\n",
    "empirical_fit = fit_rsa(cmat_words,mean(cmat_face,3));\n",
    "\n",
    "iec_fit = fit_rsa(cmat_words,iec_model);\n",
    "\n",
    "plot_rsa_fit({pairs_fit iec_fit empirical_fit posthoc2_fit posthoc3_fit},{'pairs' 'iec' 'empirical' 'posthoc2_fit' 'posthoc3_fit'});\n",
    "\n",
    "pretty_t_test_paired(iec_fit,pairs_fit);\n",
    "pretty_t_test_paired(empirical_fit,iec_fit);"
   ]
  },
  {
   "cell_type": "code",
   "execution_count": 37,
   "metadata": {},
   "outputs": [],
   "source": [
    "core = ismember(aBeta.rlbls,{ 'OFA-L' 'OFA-R' 'FFA-L' 'FFA-R' 'pSTS-L' 'pSTS-R'});\n",
    "extended = ~core;"
   ]
  },
  {
   "cell_type": "code",
   "execution_count": 38,
   "metadata": {},
   "outputs": [],
   "source": [
    "mean(cmat_words_all(extended,extended,:),3);"
   ]
  },
  {
   "cell_type": "code",
   "execution_count": 39,
   "metadata": {},
   "outputs": [
    {
     "name": "stdout",
     "output_type": "stream",
     "text": [
      "Created file '/Users/aidasaglinskas/Desktop/TN-PS-fMRI-NamesFaces/Code/pretty_t_test_paired.m'.\n"
     ]
    }
   ],
   "source": [
    "%%file pretty_t_test_paired.m\n",
    "function pretty_t_test_paired(vec1,vec2)\n",
    "% vec1 = fit_empirical\n",
    "% vec2 = fit_macrodomain\n",
    "\n",
    "% vec1 = fit_epBio\n",
    "% vec2 = fit_nomBio\n",
    "[H,P,CI,STATS] = ttest(vec1,vec2);\n",
    "\n",
    "if P >= .001\n",
    "disp(sprintf('t(%d) = %.2f, p = %.3f',STATS.df,STATS.tstat,P));\n",
    "else\n",
    "disp(sprintf('t(%d) = %.2f, p < .001',STATS.df,STATS.tstat));\n",
    "end\n",
    "\n",
    "end"
   ]
  },
  {
   "cell_type": "code",
   "execution_count": 40,
   "metadata": {},
   "outputs": [
    {
     "name": "stdout",
     "output_type": "stream",
     "text": [
      "Created file '/Users/aidasaglinskas/Desktop/TN-PS-fMRI-NamesFaces/Code/pretty_t_test_one_sample.m'.\n"
     ]
    }
   ],
   "source": [
    "%%file pretty_t_test_one_sample.m\n",
    "function pretty_t_test_paired(vec1)\n",
    "\n",
    "[H,P,CI,STATS] = ttest(vec1);\n",
    "\n",
    "if P >= .001\n",
    "disp(sprintf('t(%d) = %.2f, p = %.3f',STATS.df,STATS.tstat,P));\n",
    "else\n",
    "disp(sprintf('t(%d) = %.2f, p < .001',STATS.df,STATS.tstat));\n",
    "end\n",
    "\n",
    "end"
   ]
  },
  {
   "cell_type": "code",
   "execution_count": 41,
   "metadata": {},
   "outputs": [],
   "source": [
    "face_name_fit_extended = fit_rsa(cmat_words_all(extended,extended,:),mean(cmat_face_all(extended,extended,:),3));\n",
    "face_name_fit_core = fit_rsa(cmat_words_all(core,core,:),mean(cmat_face_all(core,core,:),3));"
   ]
  },
  {
   "cell_type": "code",
   "execution_count": 42,
   "metadata": {},
   "outputs": [
    {
     "name": "stdout",
     "output_type": "stream",
     "text": [
      "t(23) = 10.30, p < .001\n"
     ]
    }
   ],
   "source": [
    "pretty_t_test_one_sample(face_name_fit_extended)"
   ]
  },
  {
   "cell_type": "code",
   "execution_count": 43,
   "metadata": {},
   "outputs": [
    {
     "name": "stdout",
     "output_type": "stream",
     "text": [
      "t(23) = 7.04, p < .001\n"
     ]
    }
   ],
   "source": [
    "pretty_t_test_one_sample(face_name_fit_core)"
   ]
  },
  {
   "cell_type": "code",
   "execution_count": null,
   "metadata": {},
   "outputs": [],
   "source": []
  },
  {
   "cell_type": "code",
   "execution_count": null,
   "metadata": {},
   "outputs": [],
   "source": []
  },
  {
   "cell_type": "code",
   "execution_count": null,
   "metadata": {},
   "outputs": [],
   "source": []
  },
  {
   "cell_type": "code",
   "execution_count": 44,
   "metadata": {},
   "outputs": [
    {
     "name": "stdout",
     "output_type": "stream",
     "text": [
      "0.77 / 0.59\n"
     ]
    }
   ],
   "source": [
    "r = corr(get_triu(mean(cmat_words,3))',get_triu(mean(cmat_face,3))');\n",
    "disp(sprintf('%.2f / %.2f',r,r^2))"
   ]
  },
  {
   "cell_type": "code",
   "execution_count": 45,
   "metadata": {},
   "outputs": [
    {
     "name": "stdout",
     "output_type": "stream",
     "text": [
      "0.77 / 0.59\n"
     ]
    }
   ],
   "source": [
    "r = corr(get_triu(mean(cmat_words,3))',get_triu(mean(cmat_face,3))');\n",
    "disp(sprintf('%.2f / %.2f',r,r^2))"
   ]
  },
  {
   "cell_type": "code",
   "execution_count": null,
   "metadata": {},
   "outputs": [],
   "source": []
  },
  {
   "cell_type": "code",
   "execution_count": null,
   "metadata": {},
   "outputs": [],
   "source": []
  },
  {
   "cell_type": "code",
   "execution_count": null,
   "metadata": {},
   "outputs": [],
   "source": []
  },
  {
   "cell_type": "code",
   "execution_count": 46,
   "metadata": {},
   "outputs": [],
   "source": [
    "[h,p,ci,stats] = ttest(iec_fit);"
   ]
  },
  {
   "cell_type": "code",
   "execution_count": 47,
   "metadata": {},
   "outputs": [],
   "source": [
    "[h,p,ci,stats] = ttest(empirical_fit);"
   ]
  },
  {
   "cell_type": "code",
   "execution_count": 48,
   "metadata": {},
   "outputs": [],
   "source": [
    "% pretty_t_test_paired(iec_fit,posthoc2_fit);\n",
    "% pretty_t_test_paired(iec_fit,posthoc3_fit);"
   ]
  },
  {
   "cell_type": "code",
   "execution_count": 49,
   "metadata": {},
   "outputs": [],
   "source": [
    "%pretty_t_test_paired(iec_fit,posthoc3_fit);"
   ]
  },
  {
   "cell_type": "code",
   "execution_count": 50,
   "metadata": {},
   "outputs": [
    {
     "name": "stdout",
     "output_type": "stream",
     "text": [
      "    'OFA-L'\n",
      "    'OFA-R'\n",
      "    'FFA-L'\n",
      "    'FFA-R'\n",
      "    'pSTS-L'\n",
      "    'pSTS-R'\n",
      "    'IFG-L'\n",
      "    'IFG-R'\n",
      "    'OFC-L'\n",
      "    'OFC-R'\n",
      "    'ATFP-L'\n",
      "    'ATFP-R'\n",
      "    'AMY-L'\n",
      "    'AMY-R'\n",
      "    'ATL-L'\n",
      "    'ATL-R'\n",
      "    'AG-L'\n",
      "    'AG-R'\n",
      "    'PREC'\n",
      "    'dmPFC'\n",
      "    'vmPFC'\n",
      "\n",
      "t(23) = -0.22, p = 0.829\n",
      "t(23) = 3.75, p = 0.001\n"
     ]
    },
    {
     "data": {
      "image/png": "[encoded data removed]",
      "text/plain": [
       "<IPython.core.display.Image object>"
      ]
     },
     "metadata": {},
     "output_type": "display_data"
    }
   ],
   "source": [
    "disp(aBeta.rlbls);\n",
    "rois = {'ATFP-L' 'ATFP-R' 'ATL-L' 'ATL-R' 'AMY-L' 'AMY-R' 'AG-L' 'AG-R' 'IFG-L' 'IFG-R' 'OFC-L' 'OFC-R' 'PREC' 'dmPFC' 'vmPFC'};\n",
    "r_idx = ismember(aBeta.rlbls,rois);\n",
    "\n",
    "nsubs = size(aBeta.fmat,3);\n",
    "cmat_face = [];\n",
    "for s = 1:nsubs;\n",
    "    cmat_face(:,:,s) = corr(aBeta.fmat(r_idx ,:,s)');\n",
    "end\n",
    "\n",
    "nsubs = size(aBeta.wmat,3);\n",
    "cmat_words = [];\n",
    "for s = 1:nsubs\n",
    "    cmat_words(:,:,s) = corr(aBeta.wmat(r_idx ,:,s)');\n",
    "end\n",
    "%\n",
    "rlbls = aBeta.rlbls(r_idx);\n",
    "%pairs_model = make_model(rlbls, {{'ATFP-L' 'ATFP-R'} {'ATL-L' 'ATL-R'} {'AMY-L' 'AMY-R'} {'AG-L' 'AG-R'} {'IFG-L' 'IFG-R'} {'OFC-L' 'OFC-R'}})\n",
    "pairs_model = make_model(rlbls(1:12), {{'ATFP-L' 'ATFP-R'} {'ATL-L' 'ATL-R'} {'AMY-L' 'AMY-R'} {'AG-L' 'AG-R'} {'IFG-L' 'IFG-R'} {'OFC-L' 'OFC-R'}});\n",
    "pairs_fit = fit_rsa(cmat_words(1:12,1:12,:),pairs_model);\n",
    "\n",
    "iec_model  = make_model(rlbls,{{'ATFP-L' 'ATFP-R' 'AMY-L' 'AMY-R'} {'IFG-L' 'IFG-R' 'OFC-L' 'OFC-R'} {'ATL-L' 'ATL-R' 'AG-L' 'AG-R' 'PREC' 'dmPFC' 'vmPFC'}});\n",
    "empirical_model = cmat_face;\n",
    "\n",
    "empirical_fit = fit_rsa(cmat_words,mean(cmat_face,3));\n",
    "\n",
    "iec_fit = fit_rsa(cmat_words,iec_model);\n",
    "plot_rsa_fit({pairs_fit iec_fit empirical_fit},{'pairs' 'iec' 'empirical'});\n",
    "\n",
    "pretty_t_test_paired(iec_fit,pairs_fit);\n",
    "pretty_t_test_paired(empirical_fit,iec_fit);"
   ]
  },
  {
   "cell_type": "code",
   "execution_count": 51,
   "metadata": {},
   "outputs": [
    {
     "name": "stdout",
     "output_type": "stream",
     "text": [
      "\n",
      "H =\n",
      "\n",
      "     1\n",
      "\n",
      "\n",
      "P =\n",
      "\n",
      "    0.0010\n",
      "\n",
      "\n",
      "CI =\n",
      "\n",
      "   -0.1306   -0.0377\n",
      "\n",
      "\n",
      "STATS = \n",
      "\n",
      "  struct with fields:\n",
      "\n",
      "    tstat: -3.7512\n",
      "       df: 23\n",
      "       sd: 0.1099\n",
      "\n"
     ]
    }
   ],
   "source": [
    "[H,P,CI,STATS] = ttest(iec_fit,empirical_fit)"
   ]
  },
  {
   "cell_type": "code",
   "execution_count": 52,
   "metadata": {},
   "outputs": [
    {
     "name": "stdout",
     "output_type": "stream",
     "text": [
      "plot added to session magics.\n",
      "\n",
      "\n",
      "f = \n",
      "\n",
      "  Figure (1) with properties:\n",
      "\n",
      "      Number: 1\n",
      "        Name: ''\n",
      "       Color: [1 1 1]\n",
      "    Position: [680 558 560 420]\n",
      "       Units: 'pixels'\n",
      "\n",
      "  Use GET to show all properties\n",
      "\n"
     ]
    }
   ],
   "source": [
    "%plot native\n",
    "%%%plot inline \n",
    "%Bar plot: IEC vs Empirical fit\n",
    "f = figure(1);clf\n",
    "\n",
    "m = [mean(iec_fit) mean(empirical_fit)];\n",
    "se = [std(iec_fit) std(empirical_fit)] ./ sqrt(length(iec_fit));\n",
    "\n",
    "h = bar(m);hold on;\n",
    "he = errorbar(m,se,'r.');\n",
    "hold off;\n",
    "\n",
    "he.LineWidth = 2;\n",
    "h.FaceColor = [0 0.4470 0.7410] * 1;\n",
    "h.LineWidth = 2;\n",
    "\n",
    "xticklabels({'I/E/C' 'Empirical'});\n",
    "\n",
    "f.CurrentAxes.LineWidth = 2;\n",
    "f.CurrentAxes.FontSize= 14;\n",
    "f.CurrentAxes.FontWeight = 'bold';\n",
    "box off\n",
    "\n",
    "ylabel('Model fit (r)')\n",
    "\n",
    "hold on\n",
    "plot([.6 2.4],[max(se)+max(m) max(se)+max(m)]*1.1,'k-','linewidth',2)\n",
    "%text(mean([.6 2.4]-.2),[max(se)+max(m)*1.15],'**','fontsize',35,'fontname','American Typewriter')\n",
    "%text(mean([.6 2.4]-.2),[max(se)+max(m)*1.15],'p = .001','fontsize',18,'fontname','American Typewriter')\n",
    "hold off\n",
    "f.Color = [1 1 1]"
   ]
  },
  {
   "cell_type": "code",
   "execution_count": null,
   "metadata": {},
   "outputs": [],
   "source": []
  },
  {
   "cell_type": "code",
   "execution_count": null,
   "metadata": {},
   "outputs": [],
   "source": []
  },
  {
   "cell_type": "code",
   "execution_count": null,
   "metadata": {},
   "outputs": [],
   "source": []
  },
  {
   "cell_type": "code",
   "execution_count": null,
   "metadata": {},
   "outputs": [],
   "source": []
  },
  {
   "cell_type": "code",
   "execution_count": null,
   "metadata": {},
   "outputs": [],
   "source": []
  },
  {
   "cell_type": "code",
   "execution_count": null,
   "metadata": {},
   "outputs": [],
   "source": []
  },
  {
   "cell_type": "markdown",
   "metadata": {},
   "source": [
    "# ROI DENDROGRAM"
   ]
  },
  {
   "cell_type": "code",
   "execution_count": 53,
   "metadata": {},
   "outputs": [],
   "source": [
    "figdir = '/Users/aidasaglinskas/Desktop/TN-PS-fMRI-NamesFaces/Figures/';"
   ]
  },
  {
   "cell_type": "code",
   "execution_count": 88,
   "metadata": {},
   "outputs": [
    {
     "name": "stdout",
     "output_type": "stream",
     "text": [
      "Warning: ward's linkage specified with non-Euclidean dissimilarity matrix.\n",
      "> In linkage (line 171)\n"
     ]
    }
   ],
   "source": [
    "%plot native\n",
    "% ROI dendrogram\n",
    "f = figure(1);\n",
    "[H,T] = dendrogram(linkage(1-get_triu(mean(cmat_words,3)),'ward'),'labels',aBeta.rlbls(7:end));\n",
    "xtickangle(65);\n",
    "\n",
    "for i = 1:length(H);\n",
    "    H(i).Color = [0 0 0];\n",
    "    H(i).LineWidth = 3;\n",
    "end\n",
    "\n",
    "%get(f.CurrentAxes);\n",
    "\n",
    "f.CurrentAxes.LineWidth = 3;\n",
    "f.CurrentAxes.FontSize = 14;\n",
    "f.CurrentAxes.FontWeight = 'bold';\n",
    "f.CurrentAxes.XTickLabelRotation = 45;\n",
    "ylabel('dissimilarity (a.u)');\n",
    "\n",
    "%xticks(1:15)\n",
    "\n",
    "\n",
    "%saveas(f,fullfile(figdir,'roi_dend.png'))"
   ]
  },
  {
   "cell_type": "code",
   "execution_count": null,
   "metadata": {},
   "outputs": [],
   "source": []
  },
  {
   "cell_type": "code",
   "execution_count": null,
   "metadata": {},
   "outputs": [],
   "source": []
  },
  {
   "cell_type": "code",
   "execution_count": null,
   "metadata": {},
   "outputs": [],
   "source": []
  },
  {
   "cell_type": "code",
   "execution_count": null,
   "metadata": {},
   "outputs": [],
   "source": []
  },
  {
   "cell_type": "code",
   "execution_count": null,
   "metadata": {},
   "outputs": [],
   "source": []
  },
  {
   "cell_type": "code",
   "execution_count": null,
   "metadata": {},
   "outputs": [],
   "source": []
  },
  {
   "cell_type": "code",
   "execution_count": null,
   "metadata": {},
   "outputs": [],
   "source": []
  },
  {
   "cell_type": "code",
   "execution_count": null,
   "metadata": {},
   "outputs": [],
   "source": []
  },
  {
   "cell_type": "code",
   "execution_count": null,
   "metadata": {},
   "outputs": [],
   "source": []
  },
  {
   "cell_type": "code",
   "execution_count": 55,
   "metadata": {},
   "outputs": [
    {
     "name": "stdout",
     "output_type": "stream",
     "text": [
      "\n",
      "ans =\n",
      "\n",
      "    0.3021\n",
      "\n"
     ]
    }
   ],
   "source": [
    "slice = cmat_words(ismember(rlbls,{'AG-L' 'AG-R' }),ismember(rlbls,{'IFG-L' 'IFG-R'}),:);\n",
    "mean_slice = squeeze(mean(mean(slice,1),2));\n",
    "mean(mean_slice)"
   ]
  },
  {
   "cell_type": "code",
   "execution_count": 56,
   "metadata": {},
   "outputs": [
    {
     "name": "stdout",
     "output_type": "stream",
     "text": [
      "\n",
      "r =\n",
      "\n",
      "    0.7711\n",
      "\n"
     ]
    }
   ],
   "source": [
    "r = corr(get_triu(mean(cmat_words,3))',get_triu(mean(cmat_face,3))')"
   ]
  },
  {
   "cell_type": "code",
   "execution_count": 57,
   "metadata": {},
   "outputs": [],
   "source": [
    "rlbls = aBeta.rlbls(7:end);\n",
    "add_numbers_to_mat(mean(cmat_words,3));\n",
    "xticks(1:length(rlbls));\n",
    "yticks(1:length(rlbls));\n",
    "xticklabels(rlbls);\n",
    "yticklabels(rlbls);\n",
    "xtickangle(65);"
   ]
  },
  {
   "cell_type": "code",
   "execution_count": 58,
   "metadata": {},
   "outputs": [
    {
     "name": "stdout",
     "output_type": "stream",
     "text": [
      "\n",
      "ans =\n",
      "\n",
      "     1    13    24\n",
      "\n"
     ]
    }
   ],
   "source": [
    "size(cmat_words(ismember(rlbls,'ATFP-L'),~ismember(rlbls,{'ATFP-R','ATFP-L'}),:))"
   ]
  },
  {
   "cell_type": "code",
   "execution_count": 59,
   "metadata": {},
   "outputs": [
    {
     "name": "stdout",
     "output_type": "stream",
     "text": [
      "Created file '/Users/aidasaglinskas/Desktop/TN-PS-fMRI-NamesFaces/Code/pretty_t_test_paired.m'.\n"
     ]
    }
   ],
   "source": [
    "%%file pretty_t_test_paired.m\n",
    "\n",
    "function statement= pretty_t_test_paired(vec1,vec2)\n",
    "[H,P,CI,STATS] = ttest(vec1,vec2);\n",
    "\n",
    "if P >= .001\n",
    "statement = sprintf('t(%d) = %.2f, p = %.3f',STATS.df,STATS.tstat,P);\n",
    "else\n",
    "statement = sprintf('t(%d) = %.2f, p < .001',STATS.df,STATS.tstat);\n",
    "end\n",
    "\n",
    "end"
   ]
  },
  {
   "cell_type": "code",
   "execution_count": 60,
   "metadata": {},
   "outputs": [
    {
     "name": "stdout",
     "output_type": "stream",
     "text": [
      "    'IFG-L'\n",
      "    'IFG-R'\n",
      "    'OFC-L'\n",
      "    'OFC-R'\n",
      "    'ATFP-L'\n",
      "    'ATFP-R'\n",
      "    'AMY-L'\n",
      "    'AMY-R'\n",
      "    'ATL-L'\n",
      "    'ATL-R'\n",
      "    'AG-L'\n",
      "    'AG-R'\n",
      "    'PREC'\n",
      "    'dmPFC'\n",
      "    'vmPFC'\n",
      "\n"
     ]
    }
   ],
   "source": [
    "disp(rlbls)"
   ]
  },
  {
   "cell_type": "code",
   "execution_count": 61,
   "metadata": {},
   "outputs": [
    {
     "name": "stdout",
     "output_type": "stream",
     "text": [
      "\n",
      "ans =\n",
      "\n",
      "    15    15    24\n",
      "\n"
     ]
    }
   ],
   "source": [
    "size(cmat_words)"
   ]
  },
  {
   "cell_type": "code",
   "execution_count": 62,
   "metadata": {},
   "outputs": [
    {
     "name": "stdout",
     "output_type": "stream",
     "text": [
      "\n",
      "rlbls =\n",
      "\n",
      "  15x1 cell array\n",
      "\n",
      "    {'IFG-L' }\n",
      "    {'IFG-R' }\n",
      "    {'OFC-L' }\n",
      "    {'OFC-R' }\n",
      "    {'ATFP-L'}\n",
      "    {'ATFP-R'}\n",
      "    {'AMY-L' }\n",
      "    {'AMY-R' }\n",
      "    {'ATL-L' }\n",
      "    {'ATL-R' }\n",
      "    {'AG-L'  }\n",
      "    {'AG-R'  }\n",
      "    {'PREC'  }\n",
      "    {'dmPFC' }\n",
      "    {'vmPFC' }\n",
      "\n"
     ]
    }
   ],
   "source": [
    "rlbls"
   ]
  },
  {
   "cell_type": "code",
   "execution_count": 63,
   "metadata": {},
   "outputs": [
    {
     "name": "stdout",
     "output_type": "stream",
     "text": [
      "\n",
      "ans =\n",
      "\n",
      "    15    15    24\n",
      "\n"
     ]
    }
   ],
   "source": [
    "size(cmat_words)"
   ]
  },
  {
   "cell_type": "code",
   "execution_count": 64,
   "metadata": {},
   "outputs": [
    {
     "name": "stdout",
     "output_type": "stream",
     "text": [
      "IFG-L | t(23) = 3.13, p = 0.005\n",
      "IFG-R | t(23) = 3.83, p < .001\n",
      "OFC-L | t(23) = 0.47, p = 0.640\n",
      "OFC-R | t(23) = 0.71, p = 0.483\n",
      "ATFP-L | t(23) = NaN, p < .001\n",
      "ATFP-R | t(23) = -8.18, p < .001\n",
      "AMY-L | t(23) = 2.91, p = 0.008\n",
      "AMY-R | t(23) = 1.72, p = 0.098\n",
      "ATL-L | t(23) = 4.19, p < .001\n",
      "ATL-R | t(23) = 4.73, p < .001\n",
      "AG-L | t(23) = 4.49, p < .001\n",
      "AG-R | t(23) = 6.12, p < .001\n",
      "PREC | t(23) = 6.13, p < .001\n",
      "dmPFC | t(23) = 3.78, p < .001\n",
      "vmPFC | t(23) = 2.42, p = 0.024\n"
     ]
    }
   ],
   "source": [
    "for r = 1:15\n",
    "roi = rlbls{r};\n",
    "within = squeeze(cmat_words(ismember(rlbls,'ATFP-R'),ismember(rlbls,'ATFP-L'),:));\n",
    "across = squeeze(cmat_words(ismember(rlbls,'ATFP-R'),ismember(rlbls,roi),:));\n",
    "statement = pretty_t_test_paired(within,across);\n",
    "disp(sprintf('%s | %s',roi,statement))\n",
    "\n",
    "end"
   ]
  },
  {
   "cell_type": "code",
   "execution_count": 65,
   "metadata": {},
   "outputs": [
    {
     "name": "stdout",
     "output_type": "stream",
     "text": [
      "IFG-L | t(23) = 2.13, p = 0.044\n",
      "IFG-R | t(23) = 1.81, p = 0.083\n",
      "OFC-L | t(23) = 0.44, p = 0.663\n",
      "OFC-R | t(23) = 1.02, p = 0.319\n",
      "ATFP-L | t(23) = -8.18, p < .001\n",
      "ATFP-R | t(23) = NaN, p < .001\n",
      "AMY-L | t(23) = 0.27, p = 0.791\n",
      "AMY-R | t(23) = 1.38, p = 0.182\n",
      "ATL-L | t(23) = 1.35, p = 0.189\n",
      "ATL-R | t(23) = 0.53, p = 0.604\n",
      "AG-L | t(23) = 2.75, p = 0.011\n",
      "AG-R | t(23) = 3.97, p < .001\n",
      "PREC | t(23) = 1.21, p = 0.237\n",
      "dmPFC | t(23) = 0.62, p = 0.540\n",
      "vmPFC | t(23) = 0.57, p = 0.574\n"
     ]
    }
   ],
   "source": [
    "for r = 1:15\n",
    "roi = rlbls{r};\n",
    "within = squeeze(cmat_words(ismember(rlbls,'ATFP-L'),ismember(rlbls,'ATFP-R'),:));\n",
    "across = squeeze(cmat_words(ismember(rlbls,'ATFP-L'),ismember(rlbls,roi),:));\n",
    "statement = pretty_t_test_paired(within,across);\n",
    "disp(sprintf('%s | %s',roi,statement))\n",
    "\n",
    "end"
   ]
  },
  {
   "cell_type": "code",
   "execution_count": 66,
   "metadata": {},
   "outputs": [
    {
     "name": "stdout",
     "output_type": "stream",
     "text": [
      " plot inline\n",
      "\n"
     ]
    }
   ],
   "source": [
    "help pretty_t_test_paired"
   ]
  },
  {
   "cell_type": "code",
   "execution_count": null,
   "metadata": {},
   "outputs": [],
   "source": []
  },
  {
   "cell_type": "code",
   "execution_count": null,
   "metadata": {},
   "outputs": [],
   "source": []
  },
  {
   "cell_type": "code",
   "execution_count": null,
   "metadata": {},
   "outputs": [],
   "source": []
  },
  {
   "cell_type": "code",
   "execution_count": 67,
   "metadata": {},
   "outputs": [
    {
     "name": "stdout",
     "output_type": "stream",
     "text": [
      "\n",
      "ans =\n",
      "\n",
      "    't(23) = 1.79, p = 0.087'\n",
      "\n"
     ]
    }
   ],
   "source": [
    "within = squeeze(cmat_words(ismember(rlbls,'ATFP-L'),ismember(rlbls,'ATFP-R'),:));\n",
    "across = squeeze(cmat_words(ismember(rlbls,'ATFP-L'),~ismember(rlbls,{'ATFP-R','ATFP-L'}),:));\n",
    "across = squeeze(mean(across,1))';\n",
    "pretty_t_test_paired(within,across)"
   ]
  },
  {
   "cell_type": "code",
   "execution_count": null,
   "metadata": {},
   "outputs": [],
   "source": []
  },
  {
   "cell_type": "code",
   "execution_count": null,
   "metadata": {},
   "outputs": [],
   "source": []
  },
  {
   "cell_type": "code",
   "execution_count": null,
   "metadata": {},
   "outputs": [],
   "source": []
  },
  {
   "cell_type": "code",
   "execution_count": null,
   "metadata": {},
   "outputs": [],
   "source": []
  },
  {
   "cell_type": "code",
   "execution_count": null,
   "metadata": {},
   "outputs": [],
   "source": []
  },
  {
   "cell_type": "code",
   "execution_count": null,
   "metadata": {},
   "outputs": [],
   "source": []
  },
  {
   "cell_type": "code",
   "execution_count": 68,
   "metadata": {},
   "outputs": [
    {
     "name": "stdout",
     "output_type": "stream",
     "text": [
      "\n",
      "ans =\n",
      "\n",
      "     0\n",
      "\n"
     ]
    }
   ],
   "source": [
    "ttest(within,across)"
   ]
  },
  {
   "cell_type": "code",
   "execution_count": null,
   "metadata": {},
   "outputs": [],
   "source": []
  },
  {
   "cell_type": "code",
   "execution_count": null,
   "metadata": {},
   "outputs": [],
   "source": []
  },
  {
   "cell_type": "code",
   "execution_count": 69,
   "metadata": {},
   "outputs": [],
   "source": [
    "lbl1 = cellfun(@(x) ['face-' x],aBeta.rlbls,'Uniformoutput',0);\n",
    "lbl2 = cellfun(@(x) ['name-' x],aBeta.rlbls,'Uniformoutput',0);\n",
    "lbls = [lbl1(:);lbl2(:)];"
   ]
  },
  {
   "cell_type": "code",
   "execution_count": 70,
   "metadata": {},
   "outputs": [],
   "source": [
    "extended = ~ismember(lbls,{'name-OFA-L'\n",
    "'name-OFA-R' \n",
    "'name-FFA-L' \n",
    "'name-FFA-R' \n",
    "'name-pSTS-L'\n",
    "'name-pSTS-R'\n",
    "'face-OFA-L'\n",
    "'face-OFA-R' \n",
    "'face-FFA-L' \n",
    "'face-FFA-R' \n",
    "'face-pSTS-L'\n",
    "'face-pSTS-R'});"
   ]
  },
  {
   "cell_type": "code",
   "execution_count": 71,
   "metadata": {},
   "outputs": [],
   "source": [
    "ridx = extended;"
   ]
  },
  {
   "cell_type": "code",
   "execution_count": 72,
   "metadata": {},
   "outputs": [
    {
     "name": "stdout",
     "output_type": "stream",
     "text": [
      "Warning: ward's linkage specified with non-Euclidean dissimilarity matrix.\n",
      "> In linkage (line 171)\n"
     ]
    }
   ],
   "source": [
    "f = mean(aBeta.fmat,3);\n",
    "w = mean(aBeta.wmat,3);\n",
    "wf = cat(1,w,f);\n",
    "wf_cmat = corr(wf(ridx,:)');\n",
    "Z = linkage(1-get_triu(wf_cmat),'ward');"
   ]
  },
  {
   "cell_type": "code",
   "execution_count": null,
   "metadata": {},
   "outputs": [],
   "source": []
  },
  {
   "cell_type": "code",
   "execution_count": 73,
   "metadata": {},
   "outputs": [
    {
     "name": "stdout",
     "output_type": "stream",
     "text": [
      "\n",
      "data = \n",
      "\n",
      "  struct with fields:\n",
      "\n",
      "    wf_cmat: [30x30 double]\n",
      "\n",
      "\n",
      "data = \n",
      "\n",
      "  struct with fields:\n",
      "\n",
      "    wf_cmat: [30x30 double]\n",
      "       lbls: {30x1 cell}\n",
      "\n"
     ]
    }
   ],
   "source": [
    "data.wf_cmat = wf_cmat\n",
    "data.lbls = lbls(ridx)\n",
    "save('wf_data.mat','data')"
   ]
  },
  {
   "cell_type": "code",
   "execution_count": 74,
   "metadata": {},
   "outputs": [],
   "source": [
    "add_numbers_to_mat(wf_cmat,lbls(ridx))"
   ]
  },
  {
   "cell_type": "code",
   "execution_count": 81,
   "metadata": {},
   "outputs": [
    {
     "name": "stdout",
     "output_type": "stream",
     "text": [
      "\n",
      "f = \n",
      "\n",
      "  Figure (1) with properties:\n",
      "\n",
      "      Number: 1\n",
      "        Name: ''\n",
      "       Color: [1 1 1]\n",
      "    Position: [443 344 560 420]\n",
      "       Units: 'pixels'\n",
      "\n",
      "  Use GET to show all properties\n",
      "\n"
     ]
    }
   ],
   "source": [
    "%plot native\n",
    "f = figure(1)\n",
    "dendrogram(Z,0,'orientation','left','labels',lbls(ridx))"
   ]
  },
  {
   "cell_type": "code",
   "execution_count": 76,
   "metadata": {},
   "outputs": [
    {
     "name": "stdout",
     "output_type": "stream",
     "text": [
      "Available line magics:\n",
      "%activity  %cd  %connect_info  %conversation  %dot  %download  %edit  %get  %help  %html  %include  %install  %install_magic  %javascript  %jigsaw  %kernel  %kx  %latex  %load  %ls  %lsmagic  %macro  %magic  %matplotlib  %parallel  %plot  %pmap  %px  %python  %reload_magics  %restart  %run  %scheme  %set  %shell\n",
      "\n",
      "Available cell magics:\n",
      "%%activity  %%brain  %%conversation  %%debug  %%dot  %%file  %%help  %%html  %%javascript  %%kx  %%latex  %%macro  %%pipe  %%processing  %%px  %%python  %%scheme  %%shell  %%show  %%time  %%tutor\n"
     ]
    }
   ],
   "source": [
    "%lsmagic"
   ]
  },
  {
   "cell_type": "code",
   "execution_count": 77,
   "metadata": {},
   "outputs": [
    {
     "name": "stdout",
     "output_type": "stream",
     "text": [
      "\n",
      "aBeta = \n",
      "\n",
      "  struct with fields:\n",
      "\n",
      "    fmat_raw: [21x12x20 double]\n",
      "        fmat: [21x10x20 double]\n",
      "      r_lbls: {21x1 cell}\n",
      "        trim: [1x1 struct]\n",
      "      list_R: {21x1 cell}\n",
      "      list_T: {12x1 cell}\n",
      "    wmat_raw: [21x12x24 double]\n",
      "        wmat: [21x10x24 double]\n",
      "    t_lbls10: {10x1 cell}\n",
      "    t_lbls12: {12x1 cell}\n",
      "       rlbls: {21x1 cell}\n",
      "     tlbls10: {10x1 cell}\n",
      "\n"
     ]
    }
   ],
   "source": [
    "aBeta"
   ]
  },
  {
   "cell_type": "code",
   "execution_count": 78,
   "metadata": {},
   "outputs": [],
   "source": [
    "model = mean(aBeta.fmat,3);\n",
    "data = aBeta.wmat;"
   ]
  },
  {
   "cell_type": "code",
   "execution_count": null,
   "metadata": {},
   "outputs": [],
   "source": []
  },
  {
   "cell_type": "code",
   "execution_count": null,
   "metadata": {},
   "outputs": [],
   "source": []
  },
  {
   "cell_type": "code",
   "execution_count": null,
   "metadata": {},
   "outputs": [],
   "source": []
  },
  {
   "cell_type": "code",
   "execution_count": 79,
   "metadata": {},
   "outputs": [
    {
     "name": "stdout",
     "output_type": "stream",
     "text": [
      "Created file '/Users/aidasaglinskas/Desktop/TN-PS-fMRI-NamesFaces/Code/pretty_t_test_one_sample.m'.\n"
     ]
    }
   ],
   "source": [
    "%%file pretty_t_test_one_sample.m\n",
    "function statement = pretty_t_test_one_sample(vec1)\n",
    "\n",
    "[H,P,CI,STATS] = ttest(vec1);\n",
    "\n",
    "if P >= .001\n",
    "statement = sprintf('t(%d) = %.2f, p = %.3f',STATS.df,STATS.tstat,P);\n",
    "%disp(statement);\n",
    "else\n",
    "statement = sprintf('t(%d) = %.2f, p < .001',STATS.df,STATS.tstat);\n",
    "%disp(statement);\n",
    "end\n",
    "\n",
    "end"
   ]
  },
  {
   "cell_type": "code",
   "execution_count": null,
   "metadata": {},
   "outputs": [],
   "source": []
  },
  {
   "cell_type": "code",
   "execution_count": 80,
   "metadata": {},
   "outputs": [
    {
     "name": "stderr",
     "output_type": "stream",
     "text": [
      "\u001b[0;31mError using pretty_t_test_one_sample\n",
      "Too many output arguments.\n",
      "\n",
      "\u001b[0m"
     ]
    }
   ],
   "source": [
    "for r = 1:21\n",
    "model_fit = arrayfun(@(s) corr(model(r,:)',data(r,:,s)'),1:size(data,3))';\n",
    "model_fit = atanh(model_fit);\n",
    "\n",
    "%fprintf(aBeta.r_lbls(r))\n",
    "statement = pretty_t_test_one_sample(model_fit);\n",
    "disp(sprintf('%s | %s',aBeta.r_lbls{r},statement))\n",
    "\n",
    "end"
   ]
  },
  {
   "cell_type": "code",
   "execution_count": null,
   "metadata": {},
   "outputs": [],
   "source": []
  },
  {
   "cell_type": "code",
   "execution_count": null,
   "metadata": {},
   "outputs": [],
   "source": []
  },
  {
   "cell_type": "code",
   "execution_count": null,
   "metadata": {},
   "outputs": [],
   "source": []
  },
  {
   "cell_type": "code",
   "execution_count": null,
   "metadata": {},
   "outputs": [],
   "source": []
  },
  {
   "cell_type": "code",
   "execution_count": null,
   "metadata": {},
   "outputs": [],
   "source": []
  },
  {
   "cell_type": "code",
   "execution_count": null,
   "metadata": {},
   "outputs": [],
   "source": []
  },
  {
   "cell_type": "code",
   "execution_count": null,
   "metadata": {},
   "outputs": [],
   "source": []
  }
 ],
 "metadata": {
  "kernelspec": {
   "display_name": "Matlab",
   "language": "matlab",
   "name": "matlab"
  },
  "language_info": {
   "codemirror_mode": "octave",
   "file_extension": ".m",
   "help_links": [
    {
     "text": "MetaKernel Magics",
     "url": "https://metakernel.readthedocs.io/en/latest/source/README.html"
    }
   ],
   "mimetype": "text/x-octave",
   "name": "matlab",
   "version": "0.16.11"
  }
 },
 "nbformat": 4,
 "nbformat_minor": 4
}
